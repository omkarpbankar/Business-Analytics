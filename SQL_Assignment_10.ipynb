{
 "cells": [
  {
   "cell_type": "markdown",
   "metadata": {
    "id": "A1bOEW-363c7"
   },
   "source": [
    "## Q-19. Write an SQL query to determine the 5th highest salary without using TOP or limit method."
   ]
  },
  {
   "cell_type": "markdown",
   "metadata": {
    "id": "iU49W29Q63yt"
   },
   "source": [
    "SELECT * FROM (SELECT ROW_NUMBER() OVER (ORDER BY salary DESC) AS R_NUM, first_name, salary FROM employee) as HEllO WHERE R_NUM=5;"
   ]
  },
  {
   "cell_type": "markdown",
   "metadata": {
    "id": "iTePRl0F64T_"
   },
   "source": [
    "## Q-20. Write an SQL query to fetch the list of employees with the same salary."
   ]
  },
  {
   "cell_type": "markdown",
   "metadata": {
    "id": "KZuMXC0D65n-"
   },
   "source": [
    "CREATE TABLE Worker (\n",
    "\tWORKER_ID INT NOT NULL PRIMARY KEY,\n",
    "\tFIRST_NAME CHAR(25),\n",
    "\tLAST_NAME CHAR(25),\n",
    "\tSALARY INT(15),\n",
    "\tJOINING_DATE DATETIME,\n",
    "\tDEPARTMENT CHAR(25)\n",
    ");\n",
    "\n",
    "INSERT INTO Worker \n",
    "\t(WORKER_ID, FIRST_NAME, LAST_NAME, SALARY, JOINING_DATE, DEPARTMENT) VALUES\n",
    "\t\t(001, 'Monika', 'Arora', 100000, '14-02-20 09.00.00', 'HR'),\n",
    "\t\t(002, 'Niharika', 'Verma', 80000, '14-06-11 09.00.00', 'Admin'),\n",
    "\t\t(003, 'Vishal', 'Singhal', 300000, '14-02-20 09.00.00', 'HR'),\n",
    "\t\t(004, 'Amitabh', 'Singh', 500000, '14-02-20 09.00.00', 'Admin'),\n",
    "\t\t(005, 'Vivek', 'Bhati', 500000, '14-06-11 09.00.00', 'Admin'),\n",
    "\t\t(006, 'Vipul', 'Diwan', 200000, '14-06-11 09.00.00', 'Account'),\n",
    "\t\t(007, 'Satish', 'Kumar', 75000, '14-01-20 09.00.00', 'Account'),\n",
    "\t\t(008, 'Geetika', 'Chauhan', 90000, '14-04-11 09.00.00', 'Admin');\n",
    "\n",
    "Select distinct W.WORKER_ID, W.FIRST_NAME, W.Salary \n",
    "from Worker W, Worker W1 \n",
    "where W.Salary = W1.Salary \n",
    "and W.WORKER_ID != W1.WORKER_ID;"
   ]
  }
 ],
 "metadata": {
  "colab": {
   "collapsed_sections": [],
   "name": "SQL_Assignment_10.ipynb",
   "provenance": []
  },
  "kernelspec": {
   "display_name": "Python 3 (ipykernel)",
   "language": "python",
   "name": "python3"
  },
  "language_info": {
   "codemirror_mode": {
    "name": "ipython",
    "version": 3
   },
   "file_extension": ".py",
   "mimetype": "text/x-python",
   "name": "python",
   "nbconvert_exporter": "python",
   "pygments_lexer": "ipython3",
   "version": "3.9.12"
  }
 },
 "nbformat": 4,
 "nbformat_minor": 1
}
