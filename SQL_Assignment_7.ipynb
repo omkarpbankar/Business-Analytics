{
 "cells": [
  {
   "cell_type": "markdown",
   "metadata": {
    "id": "q936vUr23npG"
   },
   "source": [
    "## Q-13. Write an SQL query to show only odd rows from a table."
   ]
  },
  {
   "cell_type": "markdown",
   "metadata": {
    "id": "gTwPEC0O3oEt"
   },
   "source": [
    "SELECT * FROM Worker Where MOD(worker_id,2) = 1;"
   ]
  },
  {
   "cell_type": "markdown",
   "metadata": {
    "id": "BTe_IiJ_3oih"
   },
   "source": [
    "## Q-14. Write an SQL query to clone a new table from another table."
   ]
  },
  {
   "cell_type": "markdown",
   "metadata": {
    "id": "AHUsbAYr3pha"
   },
   "source": [
    "# Code to Create a New table\n",
    "CREATE TABLE CloneWorker (\n",
    "    WORKER_ID INT NOT NULL AUTO INCREMENT PRIMARY KEY,\n",
    "    FIRST_NAME VARCHAR(50),\n",
    "    LAST_NAME VARCHAR(50),\n",
    "    SALARY INT,\n",
    "    DEPARTMENT VARCHAR(50),\n",
    "    JOINING_DATE DATETIME\n",
    ");\n",
    "\n",
    "# Code to Clone content of a table to another table\n",
    "INSERT INTO CloneWorker SELECT * FROM Worker;"
   ]
  }
 ],
 "metadata": {
  "colab": {
   "collapsed_sections": [],
   "name": "SQL_Assignment_7.ipynb",
   "provenance": []
  },
  "kernelspec": {
   "display_name": "Python 3 (ipykernel)",
   "language": "python",
   "name": "python3"
  },
  "language_info": {
   "codemirror_mode": {
    "name": "ipython",
    "version": 3
   },
   "file_extension": ".py",
   "mimetype": "text/x-python",
   "name": "python",
   "nbconvert_exporter": "python",
   "pygments_lexer": "ipython3",
   "version": "3.9.12"
  }
 },
 "nbformat": 4,
 "nbformat_minor": 1
}
