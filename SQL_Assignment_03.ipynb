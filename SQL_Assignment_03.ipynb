{
 "cells": [
  {
   "cell_type": "markdown",
   "id": "d2f434ba",
   "metadata": {},
   "source": [
    "## Q-1. Write an SQL query to print the FIRST_NAME from Worker table after removing white spaces from the right side."
   ]
  },
  {
   "cell_type": "markdown",
   "id": "2eff6f21",
   "metadata": {},
   "source": [
    "SELECT RTRIM(FIRST_NAME) FROM Worker;"
   ]
  },
  {
   "cell_type": "markdown",
   "id": "04bef4e9",
   "metadata": {},
   "source": [
    "## Q-2. Write an SQL query that fetches the unique values of DEPARTMENT from Worker table and prints its length."
   ]
  },
  {
   "cell_type": "markdown",
   "id": "06d3c91c",
   "metadata": {},
   "source": [
    "SELECT LENGTH(DISTINCT(department) FROM Worker;"
   ]
  },
  {
   "cell_type": "markdown",
   "id": "f74f9c78",
   "metadata": {},
   "source": [
    "## Q-3. Write an SQL query to fetch nth max salaries from a table."
   ]
  },
  {
   "cell_type": "markdown",
   "id": "6659c817",
   "metadata": {},
   "source": [
    "SELECT TOP 1 salary FROM ( SELECT DISTINCT TOP N salary FROM #Employee ORDER BY salary DESC ) AS temp ORDER BY salary"
   ]
  }
 ],
 "metadata": {
  "kernelspec": {
   "display_name": "Python 3 (ipykernel)",
   "language": "python",
   "name": "python3"
  },
  "language_info": {
   "codemirror_mode": {
    "name": "ipython",
    "version": 3
   },
   "file_extension": ".py",
   "mimetype": "text/x-python",
   "name": "python",
   "nbconvert_exporter": "python",
   "pygments_lexer": "ipython3",
   "version": "3.9.12"
  }
 },
 "nbformat": 4,
 "nbformat_minor": 5
}
