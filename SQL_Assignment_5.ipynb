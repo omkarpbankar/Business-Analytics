{
 "cells": [
  {
   "cell_type": "markdown",
   "metadata": {
    "id": "witGQ7FDqc8B"
   },
   "source": [
    "## Q-1. Write an SQL query to print details of workers excluding first names, “Vipul” and “Satish” from Worker table."
   ]
  },
  {
   "cell_type": "markdown",
   "metadata": {
    "colab": {
     "base_uri": "https://localhost:8080/",
     "height": 36
    },
    "id": "dkb4thnEqdD-",
    "outputId": "63225caf-ca83-46b4-c22c-f93597dd94ae"
   },
   "source": [
    "\n",
    "SELECT * from Worker where FIRST_NAME NOT IN (\"Vipul\", \"Satish\");\n"
   ]
  },
  {
   "cell_type": "markdown",
   "metadata": {
    "id": "Qh6hC6mOqulI"
   },
   "source": [
    "## 2. Write an SQL query to print details of the Workers whose FIRST_NAME ends with ‘h’ and contains six alphabets.\n"
   ]
  },
  {
   "cell_type": "markdown",
   "metadata": {
    "colab": {
     "base_uri": "https://localhost:8080/",
     "height": 36
    },
    "id": "UueDw597qymX",
    "outputId": "1637e467-d8c6-4955-b834-80b55edb731b"
   },
   "source": [
    "SELECT * FROM Workers WHERE FIRST_NAME LIKE '_____h';\n"
   ]
  },
  {
   "cell_type": "markdown",
   "metadata": {
    "id": "_d6X3921qxUV"
   },
   "source": [
    "## Q-3. Write a query to validate Email of Employee."
   ]
  },
  {
   "cell_type": "markdown",
   "metadata": {
    "colab": {
     "base_uri": "https://localhost:8080/",
     "height": 36
    },
    "id": "ao3PvFZsqwbp",
    "outputId": "f79a050c-f6f3-43a1-fef0-3e5e47c97fc4"
   },
   "source": [
    "SELECT * FROM Worker WHERE email LIKE \"_%@_%._%\";"
   ]
  }
 ],
 "metadata": {
  "colab": {
   "collapsed_sections": [],
   "name": "SQL_Assignment_1.ipynb",
   "provenance": []
  },
  "kernelspec": {
   "display_name": "Python 3 (ipykernel)",
   "language": "python",
   "name": "python3"
  },
  "language_info": {
   "codemirror_mode": {
    "name": "ipython",
    "version": 3
   },
   "file_extension": ".py",
   "mimetype": "text/x-python",
   "name": "python",
   "nbconvert_exporter": "python",
   "pygments_lexer": "ipython3",
   "version": "3.9.12"
  }
 },
 "nbformat": 4,
 "nbformat_minor": 1
}
