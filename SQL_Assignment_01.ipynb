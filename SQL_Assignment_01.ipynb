{
 "cells": [
  {
   "cell_type": "markdown",
   "id": "3b55c935",
   "metadata": {},
   "source": [
    "## Q-1. Write an SQL query to fetch “FIRST_NAME” from Worker table using the alias name as &lt;WORKER_NAME&gt;."
   ]
  },
  {
   "cell_type": "markdown",
   "id": "9d8054e4",
   "metadata": {},
   "source": [
    "SELECT FIRST_NAME AS WORKER_NAME FROM Worker;"
   ]
  },
  {
   "cell_type": "markdown",
   "id": "6454ca57",
   "metadata": {},
   "source": [
    "## Q-2. Write an SQL query to fetch unique values of DEPARTMENT from Worker table."
   ]
  },
  {
   "cell_type": "markdown",
   "id": "6b18c2bd",
   "metadata": {},
   "source": [
    "SELECT DISTINCT DEPARTMENT FROM Worker;"
   ]
  },
  {
   "cell_type": "markdown",
   "id": "0b9a33d4",
   "metadata": {},
   "source": [
    "## Q-3. Write an SQL query to show the last 5 record from a table."
   ]
  },
  {
   "cell_type": "markdown",
   "id": "516a8bab",
   "metadata": {},
   "source": [
    "SELECT * FROM Worker ORDER BY DESC LIMIT 5;"
   ]
  }
 ],
 "metadata": {
  "kernelspec": {
   "display_name": "Python 3 (ipykernel)",
   "language": "python",
   "name": "python3"
  },
  "language_info": {
   "codemirror_mode": {
    "name": "ipython",
    "version": 3
   },
   "file_extension": ".py",
   "mimetype": "text/x-python",
   "name": "python",
   "nbconvert_exporter": "python",
   "pygments_lexer": "ipython3",
   "version": "3.9.12"
  }
 },
 "nbformat": 4,
 "nbformat_minor": 5
}
