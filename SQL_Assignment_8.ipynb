{
 "cells": [
  {
   "cell_type": "markdown",
   "metadata": {
    "id": "6dhSmibk5LUp"
   },
   "source": [
    "## Q-15. Write an SQL query to fetch intersecting records of two tables."
   ]
  },
  {
   "cell_type": "markdown",
   "metadata": {
    "id": "PdvSZtKe5Lsv"
   },
   "source": [
    "SELECT <column_names> FROM table_1 INTERSECT SELECT <column_names> FROM table_2;"
   ]
  },
  {
   "cell_type": "markdown",
   "metadata": {
    "id": "7jpBUAoR5M42"
   },
   "source": [
    "## Q-16. Write an SQL query to show records from one table that another table does not have."
   ]
  },
  {
   "cell_type": "markdown",
   "metadata": {
    "id": "1YBTu1JC5OR4"
   },
   "source": [
    "SELECT * FROM table_1 EXCEPT SELECT * FROM table_2;"
   ]
  }
 ],
 "metadata": {
  "colab": {
   "collapsed_sections": [],
   "name": "SQL_Assignment_8.ipynb",
   "provenance": []
  },
  "kernelspec": {
   "display_name": "Python 3 (ipykernel)",
   "language": "python",
   "name": "python3"
  },
  "language_info": {
   "codemirror_mode": {
    "name": "ipython",
    "version": 3
   },
   "file_extension": ".py",
   "mimetype": "text/x-python",
   "name": "python",
   "nbconvert_exporter": "python",
   "pygments_lexer": "ipython3",
   "version": "3.9.12"
  }
 },
 "nbformat": 4,
 "nbformat_minor": 1
}
