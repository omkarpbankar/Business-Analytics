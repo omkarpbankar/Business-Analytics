{
 "cells": [
  {
   "cell_type": "markdown",
   "metadata": {
    "id": "hXPGIKfF2Izn"
   },
   "source": [
    "## Q-1. Write an SQL query to print details of the Workers who have joined in Feb’ 2014."
   ]
  },
  {
   "cell_type": "markdown",
   "metadata": {
    "colab": {
     "base_uri": "https://localhost:8080/",
     "height": 54
    },
    "id": "X_rD4TVx2KNI",
    "outputId": "e60b92f5-7263-4c36-d7b5-dc3921da46c1"
   },
   "source": [
    "\n",
    "# Approach 1\n",
    "SELECT * FROM Worker WHERE JOINING_DATE LIKE \"%2014-02%\";\n",
    "\n",
    "# Approach 2\n",
    "SELECT * FROM Worker WHERE YEAR(JOINING_DATE) = 2014 AND MONTH(JOINING_DATE) = 02;\n"
   ]
  },
  {
   "cell_type": "markdown",
   "metadata": {
    "id": "XSzi0W5g2LqA"
   },
   "source": [
    "## Q-2. Write an SQL query to fetch duplicate records having matching data in some fields of a table."
   ]
  },
  {
   "cell_type": "markdown",
   "metadata": {
    "colab": {
     "base_uri": "https://localhost:8080/",
     "height": 54
    },
    "id": "Up3E0lrj2MsQ",
    "outputId": "e91165d3-5718-41bf-cc69-f5a5eea0fbbf"
   },
   "source": [
    "\n",
    "SELECT column_name, COUNT(column_name) FROM Worker GROUP BY FIELD HAVING COUNT(column_name) > 1;\n"
   ]
  },
  {
   "cell_type": "markdown",
   "metadata": {
    "id": "nf4S0QbV2NMV"
   },
   "source": [
    "## Q-3. How to remove duplicate rows from Employees table."
   ]
  },
  {
   "cell_type": "markdown",
   "metadata": {
    "colab": {
     "base_uri": "https://localhost:8080/",
     "height": 127
    },
    "id": "TO_AK3Qd2QvG",
    "outputId": "6cb665c6-70b2-4559-d11e-a6cc2bdfbdbb"
   },
   "source": [
    "CREATE TABLE Employee (\n",
    "    ID INT PRIMARY KEY AUTO_INCREMENT NOT NULL,\n",
    "    FIRST_NAME VARCHAR(50),\n",
    "    LAST_NAME VARCHAR(50),\n",
    "    COUNTRY VARCHAR(50)\n",
    ");\n",
    "\n",
    "INSERT INTO Employee VALUES \n",
    "(1,'GOURAV','RISHI','INDIA'),\n",
    "(2,'SHIVAM','AGGARWAL','INDIA'),\n",
    "(3,'KAUSHIK','SHARMA','INDIA'),\n",
    "(4,'WILL','SMITH','USA'),\n",
    "(5,'JASON','SMITH','USA'),\n",
    "(6,'STEVE','JOBS','USA');\n",
    "\n",
    "DELETE e1.* from employee e1 INNER JOIN employee e2 WHERE e1.id > e2.id AND e1.FIRST_NAME = e2.FIRST_NAME AND e1.LAST_NAME = e2.LAST_NAME AND e1.COUNTRY;"
   ]
  }
 ],
 "metadata": {
  "colab": {
   "collapsed_sections": [],
   "name": "SQL_Assignment_6.ipynb",
   "provenance": []
  },
  "kernelspec": {
   "display_name": "Python 3 (ipykernel)",
   "language": "python",
   "name": "python3"
  },
  "language_info": {
   "codemirror_mode": {
    "name": "ipython",
    "version": 3
   },
   "file_extension": ".py",
   "mimetype": "text/x-python",
   "name": "python",
   "nbconvert_exporter": "python",
   "pygments_lexer": "ipython3",
   "version": "3.9.12"
  }
 },
 "nbformat": 4,
 "nbformat_minor": 1
}
