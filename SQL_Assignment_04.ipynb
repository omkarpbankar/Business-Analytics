{
 "cells": [
  {
   "cell_type": "markdown",
   "id": "5eaa9a0b",
   "metadata": {},
   "source": [
    "## Q-1. Write an SQL query to print the FIRST_NAME from Worker table after replacing ‘a’ with ‘A’."
   ]
  },
  {
   "cell_type": "markdown",
   "id": "650dae0e",
   "metadata": {},
   "source": [
    "SELECT REPLACE(FIRST_NAME,'a','A') AS Replaced_name FROM Worker;"
   ]
  },
  {
   "cell_type": "markdown",
   "id": "81e490c0",
   "metadata": {},
   "source": [
    "## Q-2. Write an SQL query to print all Worker details from the Worker table order by FIRST_NAME Ascending and DEPARTMENT Descending."
   ]
  },
  {
   "cell_type": "markdown",
   "id": "47d326c8",
   "metadata": {},
   "source": [
    "SELECT * FROM Worker ORDER BY FIRST_NAME ASC, department DESC;"
   ]
  },
  {
   "cell_type": "markdown",
   "id": "c0673938",
   "metadata": {},
   "source": [
    "## Q-3. Write an SQL query to fetch the names of workers who earn the highest salary."
   ]
  },
  {
   "cell_type": "markdown",
   "id": "9248c2d1",
   "metadata": {},
   "source": [
    "SELECT FIRST_NAME, SALARY FROM Worker WHERE SALARY = (SELECT max(SALARY) FROM Worker)"
   ]
  }
 ],
 "metadata": {
  "kernelspec": {
   "display_name": "Python 3 (ipykernel)",
   "language": "python",
   "name": "python3"
  },
  "language_info": {
   "codemirror_mode": {
    "name": "ipython",
    "version": 3
   },
   "file_extension": ".py",
   "mimetype": "text/x-python",
   "name": "python",
   "nbconvert_exporter": "python",
   "pygments_lexer": "ipython3",
   "version": "3.9.12"
  }
 },
 "nbformat": 4,
 "nbformat_minor": 5
}
